{
 "cells": [
  {
   "cell_type": "code",
   "execution_count": 1,
   "metadata": {},
   "outputs": [],
   "source": [
    "import configparser\n",
    "import pickle\n",
    "import logging\n",
    "from pymongo import MongoClient\n",
    "from gensim import corpora, models\n",
    "from codebase.topic_utilities import make_perplexity_plots"
   ]
  },
  {
   "cell_type": "code",
   "execution_count": 2,
   "metadata": {},
   "outputs": [],
   "source": [
    "# initialize and read config file - connect to mongodb\n",
    "config = configparser.ConfigParser()\n",
    "config.read('./config.ini')\n",
    "\n",
    "# connect to mongo\n",
    "MongoServer = config[\"Mongo\"][\"URI\"]\n",
    "MongoDB = config[\"Mongo\"][\"Database\"]\n",
    "MongoUser = config[\"Mongo\"][\"User\"]\n",
    "MongoPW = config[\"Mongo\"][\"PW\"]\n",
    "\n",
    "uri = \"mongodb://\" + MongoUser + \":\" + MongoPW + \"@\" + MongoServer + \"/?authSource=\" +\\\n",
    "MongoDB + \"&authMechanism=SCRAM-SHA-1\"\n",
    "\n",
    "client = MongoClient(uri)\n",
    "target_collection = client[MongoDB][\"FirstWeek_March\"]"
   ]
  },
  {
   "cell_type": "code",
   "execution_count": 4,
   "metadata": {},
   "outputs": [
    {
     "name": "stdout",
     "output_type": "stream",
     "text": [
      "CPU times: user 4.11 s, sys: 1.39 s, total: 5.51 s\n",
      "Wall time: 20.3 s\n"
     ]
    }
   ],
   "source": [
    "%%time\n",
    "docs = []\n",
    "for i, doc in enumerate(target_collection.find({\"text\":{\"$exists\": True}})):\n",
    "    docs.append(doc[\"tokens\"])"
   ]
  },
  {
   "cell_type": "code",
   "execution_count": 11,
   "metadata": {},
   "outputs": [
    {
     "name": "stdout",
     "output_type": "stream",
     "text": [
      "CPU times: user 27.7 s, sys: 126 ms, total: 27.8 s\n",
      "Wall time: 27.8 s\n"
     ]
    }
   ],
   "source": [
    "%%time\n",
    "phrases = models.phrases.Phrases(docs, min_count=20, scoring=\"npmi\", threshold=0.6)\n",
    "bigram = models.phrases.Phraser(phrases)  # construct faster model (this is only an wrapper)\n",
    "bigram_docs = [bigram[doc] for doc in docs]"
   ]
  },
  {
   "cell_type": "code",
   "execution_count": 13,
   "metadata": {},
   "outputs": [
    {
     "name": "stdout",
     "output_type": "stream",
     "text": [
      "CPU times: user 1.24 s, sys: 7.65 ms, total: 1.25 s\n",
      "Wall time: 1.24 s\n"
     ]
    }
   ],
   "source": [
    "%%time\n",
    "clean_bigram_docs = []\n",
    "for doc in bigram_docs:\n",
    "    clean_bigram_docs.append([word for word in doc if len(word) > 2])"
   ]
  },
  {
   "cell_type": "code",
   "execution_count": 19,
   "metadata": {},
   "outputs": [
    {
     "name": "stdout",
     "output_type": "stream",
     "text": [
      "CPU times: user 6.47 s, sys: 6.28 ms, total: 6.48 s\n",
      "Wall time: 6.48 s\n"
     ]
    }
   ],
   "source": [
    "%%time\n",
    "token_dictionary = corpora.Dictionary(clean_bigram_docs)\n",
    "token_dictionary.filter_extremes(no_below=20, no_above=0.5)\n",
    "token_dictionary.compactify()"
   ]
  },
  {
   "cell_type": "code",
   "execution_count": 20,
   "metadata": {},
   "outputs": [],
   "source": [
    "corpus = [token_dictionary.doc2bow(text) for text in clean_bigram_docs]"
   ]
  },
  {
   "cell_type": "code",
   "execution_count": 22,
   "metadata": {},
   "outputs": [
    {
     "name": "stdout",
     "output_type": "stream",
     "text": [
      "CPU times: user 21min 25s, sys: 1min, total: 22min 25s\n",
      "Wall time: 22min 11s\n"
     ]
    }
   ],
   "source": [
    "%%time\n",
    "\n",
    "# n_topics 為主題數設定\n",
    "n_topics = 50\n",
    "\n",
    "# flag 可設成任何能幫助你紀錄的字串\n",
    "# 建議以 日期-主題數 的方式來記憶\n",
    "flag = \"Covid19-FirstWeek_March-\" + str(n_topics) + \"-topics\"\n",
    "\n",
    "logging.basicConfig(filename='./logs/'+ flag +'.log',\n",
    "                    format=\"%(asctime)s:%(levelname)s:%(message)s\",\n",
    "                    level=logging.INFO)\n",
    "\n",
    "# 這段操作可以讓模型保有 5% 的資料來做測試資料，以便衡量模型是否收斂\n",
    "estimated_chunk_size = int(len(corpus) * 0.095)\n",
    "\n",
    "# 套用 gensim.models 的 LdaMulticore 以多核心加速訓練主題模型\n",
    "# 以下設定大致無須調校，唯獨 passes (對等於神經模型的 epoch) 在大文本的情況下可能要增加\n",
    "# 配合 make_perplexity_plots 來觀察是否收斂，若否則可以考慮增加\n",
    "ldamodel = models.ldamulticore.LdaMulticore(corpus=corpus, num_topics=n_topics, id2word = token_dictionary,\\\n",
    "                                    chunksize=estimated_chunk_size, alpha=1/n_topics, eta=0.01,\\\n",
    "                                    passes=50, eval_every=10)\n",
    "\n",
    "logging.shutdown()"
   ]
  },
  {
   "cell_type": "code",
   "execution_count": 23,
   "metadata": {},
   "outputs": [],
   "source": [
    "make_perplexity_plots(log_path = './logs/' + flag + '.log', \\\n",
    "                      output_path = './logs/' + flag + '.pdf')"
   ]
  },
  {
   "cell_type": "code",
   "execution_count": 24,
   "metadata": {},
   "outputs": [],
   "source": [
    "# 確認模型收斂無虞後，將主題模型儲存以辨後續使用\n",
    "ldamodel.save(\"./models/\" + flag)"
   ]
  },
  {
   "cell_type": "code",
   "execution_count": 25,
   "metadata": {},
   "outputs": [
    {
     "name": "stdout",
     "output_type": "stream",
     "text": [
      "CPU times: user 1min 47s, sys: 599 ms, total: 1min 47s\n",
      "Wall time: 1min 54s\n"
     ]
    }
   ],
   "source": [
    "%%time\n",
    "import pyLDAvis\n",
    "import pyLDAvis.gensim as gensimvis\n",
    "\n",
    "# 透過 pyLDAvis 的 gensimvis 將模型轉換成 LDAvis 需求格式\n",
    "vis_data = gensimvis.prepare(ldamodel, corpus, token_dictionary, sort_topics=False)\n",
    "pyLDAvis.save_html(data=vis_data, fileobj=\"./models/\"+ flag +\".html\")"
   ]
  }
 ],
 "metadata": {
  "kernelspec": {
   "display_name": "HealthV",
   "language": "python",
   "name": "healthv"
  },
  "language_info": {
   "codemirror_mode": {
    "name": "ipython",
    "version": 3
   },
   "file_extension": ".py",
   "mimetype": "text/x-python",
   "name": "python",
   "nbconvert_exporter": "python",
   "pygments_lexer": "ipython3",
   "version": "3.7.6"
  }
 },
 "nbformat": 4,
 "nbformat_minor": 4
}
