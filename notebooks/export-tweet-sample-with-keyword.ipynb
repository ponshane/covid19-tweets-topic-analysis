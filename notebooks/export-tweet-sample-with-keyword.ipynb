{
 "cells": [
  {
   "cell_type": "code",
   "execution_count": 1,
   "metadata": {},
   "outputs": [],
   "source": [
    "from codebase.utils import MongoConnector"
   ]
  },
  {
   "cell_type": "code",
   "execution_count": 2,
   "metadata": {},
   "outputs": [],
   "source": [
    "conn = MongoConnector(\"./config.ini\")"
   ]
  },
  {
   "cell_type": "code",
   "execution_count": 3,
   "metadata": {},
   "outputs": [],
   "source": [
    "def make_text_query(keyword):\n",
    "    \n",
    "    q = { \n",
    "            \"$text\" : { \n",
    "                \"$search\" : f\"\\\"{keyword}\\\"\", \n",
    "                \"$language\" : \"en\"\n",
    "            }\n",
    "    }\n",
    "    \n",
    "    return q"
   ]
  },
  {
   "cell_type": "code",
   "execution_count": 4,
   "metadata": {},
   "outputs": [],
   "source": [
    "# keywords = [\"Old\",\"Age\",\"Facility\",\"Nursing home\",\"Old people\",\"Elderly\",\"Boomer\",\\\n",
    "#             \"Ageism\",\"Older\",\"Ageist\",\"Senior\",\"Senior citizen\",\"Retired people\",\\\n",
    "#             \"Older adults\",\"Elder\",\"Old lady\",\"Old man\",\"Grandma\",\"Grandpa\",\"Granny\",\\\n",
    "#             \"Over the hill\",\"Cougar\",\"Grumpy\",\"Old coot\",\"Geezer\",\"Fogey\",\"Codger\"]\n",
    "\n",
    "keywords = [\"Old people\", \"Elderly\", \"Ageism\", \"Ageist\", \"Older adults\", \"Grumpy old people\"]\n",
    "Weeks = [\"FirstWeek_March\", \"SecondWeek_March\", \"ThirdWeek_March\", \"FourthWeek_March\",\\\n",
    "        \"FirstWeek_April\", \"SecondWeek_April\", \"ThirdWeek_April\", \"FourthWeek_April\"]"
   ]
  },
  {
   "cell_type": "code",
   "execution_count": null,
   "metadata": {},
   "outputs": [],
   "source": [
    "num_count = dict()\n",
    "for keyword in keywords:\n",
    "    keyword = keyword.lower()\n",
    "    num_count[keyword] = 0\n",
    "    flag = keyword.replace(\" \", \"-\")\n",
    "    wf = open(f\"export/{flag}-tweets.tsv\", \"w\")\n",
    "    wf.write(\"No\\tCreated_at\\tText\\n\")\n",
    "    for each_week in Weeks:\n",
    "        conn.get_collection_cursor(each_week)\n",
    "        docs = conn.target_collection.find(make_text_query(keyword),\\\n",
    "                                          no_cursor_timeout=True)\n",
    "        for i, doc in enumerate(docs):\n",
    "            if i % 1000 == 0:\n",
    "                print(f\"{keyword}@{each_week}: {i}\")\n",
    "            num_count[keyword] += 1\n",
    "            created_at = doc[\"created_at\"]\n",
    "            text = doc[\"text\"].replace(\"\\n\", \" \")\n",
    "            wf.write(f\"{i}\\t{created_at}\\t{text}\\n\")\n",
    "    \n",
    "    wf.close()\n",
    "    cnt = num_count[keyword]\n",
    "    print(f\"Finished {keyword}: {cnt} tweets.\")"
   ]
  }
 ],
 "metadata": {
  "kernelspec": {
   "display_name": "HealthV",
   "language": "python",
   "name": "healthv"
  },
  "language_info": {
   "codemirror_mode": {
    "name": "ipython",
    "version": 3
   },
   "file_extension": ".py",
   "mimetype": "text/x-python",
   "name": "python",
   "nbconvert_exporter": "python",
   "pygments_lexer": "ipython3",
   "version": "3.7.6"
  }
 },
 "nbformat": 4,
 "nbformat_minor": 4
}
