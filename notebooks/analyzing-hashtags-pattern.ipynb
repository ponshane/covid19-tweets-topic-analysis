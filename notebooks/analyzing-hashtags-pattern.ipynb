{
 "cells": [
  {
   "cell_type": "code",
   "execution_count": 35,
   "metadata": {},
   "outputs": [],
   "source": [
    "from codebase.utils import MongoConnector\n",
    "import pandas as pd"
   ]
  },
  {
   "cell_type": "code",
   "execution_count": 2,
   "metadata": {},
   "outputs": [],
   "source": [
    "conn = MongoConnector(\"./config.ini\")"
   ]
  },
  {
   "cell_type": "markdown",
   "metadata": {},
   "source": [
    "# Step1, Retrieve hashtags from Mongo\n",
    "\n",
    "Take following times from Mongo:\n",
    "> CPU times: user 9min 9s, sys: 11.7 s, total: 9min 20s  \n",
    "> Wall time: 13min 26s\n",
    "\n",
    "I have save them as pickle. Just read back them."
   ]
  },
  {
   "cell_type": "code",
   "execution_count": null,
   "metadata": {
    "scrolled": true
   },
   "outputs": [],
   "source": [
    "# %%time\n",
    "\n",
    "# Weeks = [\"FirstWeek_March\", \"SecondWeek_March\", \"ThirdWeek_March\", \"FourthWeek_March\",\\\n",
    "#          \"FirstWeek_April\", \"SecondWeek_April\", \"ThirdWeek_April\", \"FourthWeek_April\"]\n",
    "\n",
    "# query = {}\n",
    "# query[\"hashtags\"] = {\n",
    "#     u\"$exists\": True\n",
    "# }\n",
    "\n",
    "# rows_list = []\n",
    "# for each_week in Weeks:\n",
    "#     conn.get_collection_cursor(each_week)\n",
    "#     docs = conn.data_streaming_from_collection(query=query)\n",
    "#     for i, doc in enumerate(docs):\n",
    "#         if i % 100000 == 0:\n",
    "#             print(f\"{each_week}: {i}\")\n",
    "        \n",
    "#         row_dict = dict()\n",
    "#         created_at = doc[\"created_at\"]\n",
    "#         for tag in doc[\"hashtags\"]:\n",
    "#             row_dict.update(created_at=created_at, hashtag=tag)\n",
    "#             rows_list.append(row_dict)\n",
    "\n",
    "# tagsDF = pd.DataFrame(rows_list)"
   ]
  },
  {
   "cell_type": "code",
   "execution_count": 3,
   "metadata": {},
   "outputs": [],
   "source": [
    "# save pickle\n",
    "# tagsDF.to_pickle(path=\"./export/Hashtags-of-Mar-Apr.pkl.gz\",\n",
    "#                  compression=\"gzip\")\n",
    "\n",
    "# read pickle\n",
    "tagsDF = pd.read_pickle(\"./export/Hashtags-of-Mar-Apr.pkl.gz\",\n",
    "                  compression=\"gzip\")\n",
    "tagsDF.reset_index()\n",
    "tagsDF = tagsDF.set_index(\"created_at\")"
   ]
  },
  {
   "cell_type": "code",
   "execution_count": 40,
   "metadata": {},
   "outputs": [],
   "source": [
    "tagsDF[\"hashtag\"] = tagsDF[\"hashtag\"].apply(str.lower)"
   ]
  },
  {
   "cell_type": "markdown",
   "metadata": {},
   "source": [
    "# Step2, Resample counts of hashtag by week (or any time granuality)\n",
    "\n",
    "> CPU times: user 21min 44s, sys: 3.19 s, total: 21min 47s  \n",
    "> Wall time: 21min 46s\n",
    "\n",
    "> CPU times: user 18min 16s, sys: 5.52 s, total: 18min 22s  \n",
    "> Wall time: 18min 21s"
   ]
  },
  {
   "cell_type": "code",
   "execution_count": 42,
   "metadata": {},
   "outputs": [
    {
     "name": "stdout",
     "output_type": "stream",
     "text": [
      "CPU times: user 18min 16s, sys: 5.52 s, total: 18min 22s\n",
      "Wall time: 18min 21s\n"
     ]
    }
   ],
   "source": [
    "%%time\n",
    "tagsDF = tagsDF.loc['2020-03-01':'2020-04-26']\n",
    "grouped_tagsDF = tagsDF.groupby('hashtag').resample('W')['hashtag'].count()"
   ]
  },
  {
   "cell_type": "code",
   "execution_count": 43,
   "metadata": {},
   "outputs": [],
   "source": [
    "# grouped_tagsDF.to_pickle(\"./export/Counts-Hashtags-of-Mar-Apr.pkl.gz\",\n",
    "#                   compression=\"gzip\")\n",
    "# grouped_tagsDF = pd.read_pickle(\"./export/Counts-Hashtags-of-Mar-Apr.pkl.gz\",\n",
    "#                    compression=\"gzip\")\n",
    "# grouped_tagsDF.to_pickle(\"./export/Counts-lower-Hashtags-of-Mar-Apr.pkl.gz\",\n",
    "#                   compression=\"gzip\")\n",
    "grouped_tagsDF = pd.read_pickle(\"./export/Counts-lower-Hashtags-of-Mar-Apr.pkl.gz\",\n",
    "                   compression=\"gzip\")"
   ]
  },
  {
   "cell_type": "code",
   "execution_count": 44,
   "metadata": {},
   "outputs": [],
   "source": [
    "gdf = grouped_tagsDF.unstack('hashtag', fill_value=0)"
   ]
  },
  {
   "cell_type": "code",
   "execution_count": 52,
   "metadata": {},
   "outputs": [
    {
     "data": {
      "text/plain": [
       "(9, 651587)"
      ]
     },
     "execution_count": 52,
     "metadata": {},
     "output_type": "execute_result"
    }
   ],
   "source": [
    "gdf.shape"
   ]
  },
  {
   "cell_type": "code",
   "execution_count": 61,
   "metadata": {},
   "outputs": [
    {
     "data": {
      "text/plain": [
       "<matplotlib.axes._subplots.AxesSubplot at 0x7fec17cf23d0>"
      ]
     },
     "execution_count": 61,
     "metadata": {},
     "output_type": "execute_result"
    },
    {
     "data": {
      "image/png": "[encoded data removed]",
      "text/plain": [
       "<Figure size 432x288 with 1 Axes>"
      ]
     },
     "metadata": {
      "needs_background": "light"
     },
     "output_type": "display_data"
    }
   ],
   "source": [
    "gdf[\"masks4all\"].plot()"
   ]
  },
  {
   "cell_type": "markdown",
   "metadata": {},
   "source": [
    "# Step3, Calculate count difference by week"
   ]
  },
  {
   "cell_type": "code",
   "execution_count": 47,
   "metadata": {},
   "outputs": [],
   "source": [
    "WeekDiff = gdf.diff(axis=0)"
   ]
  },
  {
   "cell_type": "code",
   "execution_count": 48,
   "metadata": {},
   "outputs": [
    {
     "data": {
      "text/plain": [
       "DatetimeIndex(['2020-03-01', '2020-03-08', '2020-03-15', '2020-03-22',\n",
       "               '2020-03-29', '2020-04-05', '2020-04-12', '2020-04-19',\n",
       "               '2020-04-26'],\n",
       "              dtype='datetime64[ns]', name='created_at', freq=None)"
      ]
     },
     "execution_count": 48,
     "metadata": {},
     "output_type": "execute_result"
    }
   ],
   "source": [
    "WeekDiff.index"
   ]
  },
  {
   "cell_type": "markdown",
   "metadata": {},
   "source": [
    "# Step4, Pick those hashtag with large count difference (Most Surging/Most Diminishing)"
   ]
  },
  {
   "cell_type": "code",
   "execution_count": 59,
   "metadata": {},
   "outputs": [],
   "source": [
    "# change to [::-1] to get descending results\n",
    "# and [::1] to get ascending results\n",
    "sort_ids = WeekDiff.iloc[6].argsort()[::1][:50]"
   ]
  },
  {
   "cell_type": "code",
   "execution_count": 60,
   "metadata": {},
   "outputs": [
    {
     "data": {
      "text/plain": [
       "hashtag\n",
       "coronavirus                      -32811.0\n",
       "covid19pandemic                  -17841.0\n",
       "covid2019                        -12298.0\n",
       "follow                           -11636.0\n",
       "coronavirustruth                  -9917.0\n",
       "coronaviruspandemic               -7641.0\n",
       "stayhomesavelives                 -5967.0\n",
       "stayathome                        -5339.0\n",
       "quarantine                        -4798.0\n",
       "thelockdown                       -4366.0\n",
       "coronaupdate                      -4026.0\n",
       "aprilfoolsday                     -3375.0\n",
       "bot                               -3079.0\n",
       "metal                             -2975.0\n",
       "coronavirusoutbreak               -2782.0\n",
       "coronavirususa                    -2765.0\n",
       "coronavirusindia                  -2558.0\n",
       "indiafightscorona                 -2441.0\n",
       "redbubble                         -2402.0\n",
       "masks4all                         -2354.0\n",
       "coronavirusupdates                -2327.0\n",
       "coronavirusitaly                  -1761.0\n",
       "coronalockdown                    -1749.0\n",
       "premier                           -1729.0\n",
       "clippingpath                      -1708.0\n",
       "covid19uk                         -1688.0\n",
       "pmcaresfunds                      -1681.0\n",
       "coronajihad                       -1609.0\n",
       "nizamuddinmarkaz                  -1589.0\n",
       "trumpownseverydeath               -1578.0\n",
       "tablighijamaat                    -1545.0\n",
       "nationaldoctorsday                -1534.0\n",
       "nizamuddin                        -1528.0\n",
       "forecast                          -1525.0\n",
       "stopairingtrump                   -1523.0\n",
       "fruitasholdings                   -1505.0\n",
       "aprilfools                        -1494.0\n",
       "crypto                            -1437.0\n",
       "selflessservicebydssvolunteers    -1405.0\n",
       "coronaalert                       -1305.0\n",
       "auspol                            -1261.0\n",
       "safetyfromcoronatoprisoners       -1246.0\n",
       "dubstep                           -1236.0\n",
       "saturdaythoughts                  -1210.0\n",
       "9pm9minute                        -1210.0\n",
       "filmyourhospital                  -1185.0\n",
       "stayathomeandstaysafe             -1165.0\n",
       "day8oflockdown                    -1159.0\n",
       "stop                              -1140.0\n",
       "eth                               -1135.0\n",
       "Name: 2020-04-12 00:00:00, dtype: float64"
      ]
     },
     "execution_count": 60,
     "metadata": {},
     "output_type": "execute_result"
    }
   ],
   "source": [
    "WeekDiff.iloc[6][sort_ids]"
   ]
  },
  {
   "cell_type": "code",
   "execution_count": null,
   "metadata": {},
   "outputs": [],
   "source": []
  }
 ],
 "metadata": {
  "kernelspec": {
   "display_name": "HealthV",
   "language": "python",
   "name": "healthv"
  },
  "language_info": {
   "codemirror_mode": {
    "name": "ipython",
    "version": 3
   },
   "file_extension": ".py",
   "mimetype": "text/x-python",
   "name": "python",
   "nbconvert_exporter": "python",
   "pygments_lexer": "ipython3",
   "version": "3.7.6"
  }
 },
 "nbformat": 4,
 "nbformat_minor": 4
}
