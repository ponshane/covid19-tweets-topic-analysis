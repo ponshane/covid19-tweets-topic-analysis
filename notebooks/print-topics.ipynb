{
 "metadata": {
  "language_info": {
   "codemirror_mode": {
    "name": "ipython",
    "version": 3
   },
   "file_extension": ".py",
   "mimetype": "text/x-python",
   "name": "python",
   "nbconvert_exporter": "python",
   "pygments_lexer": "ipython3",
   "version": "3.7.6"
  },
  "orig_nbformat": 2,
  "kernelspec": {
   "name": "python376jvsc74a57bd0a6c65a754d61e1d96737eaa654af461ca99a8f5ca05f699efc52d45053a70eb4",
   "display_name": "Python 3.7.6 64-bit ('HealthV': conda)"
  }
 },
 "nbformat": 4,
 "nbformat_minor": 2,
 "cells": [
  {
   "cell_type": "code",
   "execution_count": 2,
   "metadata": {},
   "outputs": [],
   "source": [
    "from gensim.models.nmf import Nmf\n",
    "\n",
    "model_path = \"../models/\"\n",
    "num_topics = 50\n",
    "model_suffix = \"-{}topics\".format(num_topics)\n",
    "modelTag = \"Seventh-and-EighthWeek-Tweets-Rolling\"\n",
    "\n",
    "nmf = Nmf.load(\"{}{}{}.model\".format(model_path,modelTag,model_suffix))"
   ]
  },
  {
   "cell_type": "code",
   "execution_count": 4,
   "metadata": {},
   "outputs": [
    {
     "output_type": "execute_result",
     "data": {
      "text/plain": [
       "'0.050*\"covid\" + 0.015*\"vaccines\" + 0.007*\"variants\" + 0.006*\"south\" + 0.006*\"way\" + 0.006*\"via\" + 0.005*\"immunity\" + 0.005*\"prevent\" + 0.005*\"virus\" + 0.005*\"variant\" + 0.005*\"africa\" + 0.004*\"someone\" + 0.004*\"february\" + 0.004*\"astrazeneca\" + 0.004*\"least\" + 0.004*\"spread\" + 0.004*\"new\" + 0.004*\"immune\" + 0.004*\"something\" + 0.004*\"sticking\" + 0.004*\"valentine\" + 0.004*\"booked\" + 0.003*\"african\" + 0.003*\"th\" + 0.003*\"also\" + 0.003*\"study\" + 0.003*\"nigeria\" + 0.003*\"hey\" + 0.003*\"infection\" + 0.003*\"system\"'"
      ]
     },
     "metadata": {},
     "execution_count": 4
    }
   ],
   "source": [
    "nmf.print_topic(9, 30)"
   ]
  }
 ]
}