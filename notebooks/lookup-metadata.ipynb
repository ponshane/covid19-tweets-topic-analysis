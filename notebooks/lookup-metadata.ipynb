{
 "cells": [
  {
   "cell_type": "code",
   "execution_count": null,
   "metadata": {},
   "outputs": [],
   "source": [
    "import pandas as pd\n",
    "import glob\n",
    "import json\n",
    "import tweepy as tp\n",
    "from datetime import datetime, date, timedelta"
   ]
  },
  {
   "cell_type": "code",
   "execution_count": null,
   "metadata": {},
   "outputs": [],
   "source": [
    "access_token = 'FILL IN YOURS'\n",
    "access_secret = 'FILL IN YOURS'\n",
    "consumer_key = 'FILL IN YOURS'\n",
    "consumer_secret = 'FILL IN YOURS'\n",
    "\n",
    "auth = tp.OAuthHandler(consumer_key, consumer_secret)\n",
    "auth.set_access_token(access_token, access_secret)\n",
    "api = tp.API(auth, wait_on_rate_limit=True)"
   ]
  },
  {
   "cell_type": "code",
   "execution_count": null,
   "metadata": {},
   "outputs": [],
   "source": [
    "i = 310 #The day's number\n",
    "\n",
    "filename = './CoronaTweets/corona_tweets_' + str(i) + '.csv'\n",
    "    \n",
    "#Printing when the collection starts\n",
    "begin_date = date.today()\n",
    "begin_time = datetime.now()\n",
    "starting_date = begin_date.strftime(\"%d/%m/%Y\")\n",
    "starting_time = begin_time.strftime(\"%H:%M:%S\")\n",
    "print('Starting collecting file no. ' + str(i) + ' at ' + starting_date, starting_time)"
   ]
  },
  {
   "cell_type": "code",
   "execution_count": null,
   "metadata": {},
   "outputs": [],
   "source": [
    "#Reading the file\n",
    "corona_tweets = pd.read_csv(filename)\n",
    "corona_tweets = corona_tweets.iloc[:, 0].drop_duplicates()\n",
    "    \n",
    "df = pd.DataFrame(columns = ['id', 'json']) #Empty main dataframe. Each batch dataframe will be appended here.\n",
    "\n",
    "first = 0 #First tweet of the batch\n",
    "last = 100 #Last tweet of the batch\n",
    "\n",
    "while first < len(corona_tweets):\n",
    "    \n",
    "    list_id = [] #The future 'id' and 'json' columns\n",
    "    list_json = []\n",
    "    \n",
    "    id_ = list(corona_tweets[first: last]) #The IDs of the tweets to collect \n",
    "    \n",
    "    if first > (len(corona_tweets) - 100): #If the last batch has last less than 100 tweets\n",
    "        last = len(corona_tweets)%first + first\n",
    "        \n",
    "    if first == last: #If there is only one tweet in the batch\n",
    "        id_ = list(corona_tweets[first])\n",
    "        \n",
    "    statuses = api.statuses_lookup(id_, tweet_mode=\"extended\")\n",
    "    \n",
    "    for status in statuses:\n",
    "        list_id.append(status.id)\n",
    "        list_json.append(json.dumps(status._json))\n",
    "        \n",
    "    temp_df = pd.concat([pd.Series(list_id,name='id'),pd.Series(list_json,name='json')], axis=1) #Batch dataframe\n",
    "    \n",
    "    df = df.append(temp_df) #Appending the batch dataframe to the main dataframe\n",
    "        \n",
    "    first += 100 #Updating the indices of first and last tweets of the batch\n",
    "    last += 100\n",
    "    \n",
    "    if last%8000 == 0 or last%100 != 0: #Save files every 8000 tweets\n",
    "        df.to_csv('./CollectedTweets/' + str(i) + '_corona_collected_tweets' + str(last) + '.csv')\n",
    "        df = pd.DataFrame(columns = ['id', 'json'])\n",
    "        \n",
    "    \n",
    "    #Printing when the collection ends\n",
    "    end_date = date.today()\n",
    "    end_time = datetime.now()\n",
    "    finish_date = end_date.strftime(\"%d/%m/%Y\")\n",
    "    finish_time = end_now.strftime(\"%H:%M:%S\")\n",
    "    elapsed_time = end_time - begin_time\n",
    "    print('Finishing collecting file no. ' + str(i) + ' at ' + finish_date, finish_time)\n",
    "    print('Total time elapsed: ', str(elapsed_time.seconds//3600)+':'+str(elapsed_time.seconds%60))\n",
    "    print()"
   ]
  }
 ],
 "metadata": {
  "kernelspec": {
   "display_name": "Python 3",
   "language": "python",
   "name": "python3"
  },
  "language_info": {
   "codemirror_mode": {
    "name": "ipython",
    "version": 3
   },
   "file_extension": ".py",
   "mimetype": "text/x-python",
   "name": "python",
   "nbconvert_exporter": "python",
   "pygments_lexer": "ipython3",
   "version": "3.7.3"
  }
 },
 "nbformat": 4,
 "nbformat_minor": 4
}
