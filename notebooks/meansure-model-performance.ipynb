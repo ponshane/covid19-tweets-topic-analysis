{
 "cells": [
  {
   "cell_type": "code",
   "execution_count": 1,
   "metadata": {},
   "outputs": [],
   "source": [
    "import pandas as pd\n",
    "\n",
    "import sys\n",
    "sys.path.append(\"../\") # go to parent dir\n",
    "from codebase.topic_utilities import jaccard_similarity"
   ]
  },
  {
   "cell_type": "markdown",
   "metadata": {},
   "source": [
    "# Step 1, Load original topics"
   ]
  },
  {
   "cell_type": "code",
   "execution_count": 2,
   "metadata": {},
   "outputs": [],
   "source": [
    "rolling_xls = pd.ExcelFile('../export/Mar-Jun-Rolling.xlsx')\n",
    "sliding_xls = pd.ExcelFile('../export/Mar-Jun-Sliding.xlsx')"
   ]
  },
  {
   "cell_type": "code",
   "execution_count": 3,
   "metadata": {},
   "outputs": [],
   "source": [
    "# read rolling_xls\n",
    "for i, week_index in enumerate(range(10, 27)):\n",
    "    week_name = f\"Week{week_index}\"\n",
    "    if i == 0:\n",
    "        rolling_df = pd.read_excel(rolling_xls,sheet_name=week_name)\n",
    "    else:\n",
    "        rolling_df = rolling_df.append(pd.read_excel(rolling_xls,sheet_name=week_name), ignore_index=True)\n",
    "\n",
    "# read sliding_xls\n",
    "for i, week_index in enumerate(range(10, 27)):\n",
    "    if i == 0:\n",
    "        week_name = f\"W{week_index}\"\n",
    "        sliding_df = pd.read_excel(sliding_xls,sheet_name=week_name)\n",
    "    else:\n",
    "        week_name = f\"W{week_index-1}W{week_index}\"\n",
    "        sliding_df = sliding_df.append(pd.read_excel(sliding_xls,sheet_name=week_name), ignore_index=True)"
   ]
  },
  {
   "cell_type": "code",
   "execution_count": null,
   "metadata": {},
   "outputs": [],
   "source": [
    "# format rolling_df\n",
    "rolling_df.reset_index(inplace=True)\n",
    "rolling_df.rename(columns={\"index\": \"topic_id_perm_prev\"}, inplace=True)\n",
    "rolling_df = rolling_df[[\"topic_id_perm_prev\", \"ratio\", \"coherence\"]]\n",
    "rolling_df\n",
    "\n",
    "# format sliding_df\n",
    "sliding_df.reset_index(inplace=True)\n",
    "sliding_df.rename(columns={\"index\": \"topic_id_perm_prev\"}, inplace=True)\n",
    "sliding_df = sliding_df[[\"topic_id_perm_prev\", \"ratio\", \"coherence\"]]\n",
    "sliding_df"
   ]
  },
  {
   "cell_type": "markdown",
   "metadata": {},
   "source": [
    "# Step 2, Join with topics selected in label_list.csv"
   ]
  },
  {
   "cell_type": "code",
   "execution_count": 6,
   "metadata": {},
   "outputs": [],
   "source": [
    "rolling_label_list = pd.read_csv(\"../export/label_list_rolling.csv\")\n",
    "sliding_label_list = pd.read_csv(\"../export/label_list_sliding.csv\")"
   ]
  },
  {
   "cell_type": "code",
   "execution_count": 7,
   "metadata": {},
   "outputs": [],
   "source": [
    "rolling_join_df = rolling_df.set_index('topic_id_perm_prev').join(rolling_label_list.set_index('topic_id_perm_prev'),\n",
    "                                                        how=\"right\")\n",
    "sliding_join_df = sliding_df.set_index('topic_id_perm_prev').join(sliding_label_list.set_index('topic_id_perm_prev'),\n",
    "                                                        how=\"right\")"
   ]
  },
  {
   "cell_type": "markdown",
   "metadata": {},
   "source": [
    "# Step 3, Report Topic Performance"
   ]
  },
  {
   "cell_type": "code",
   "execution_count": 8,
   "metadata": {},
   "outputs": [
    {
     "name": "stdout",
     "output_type": "stream",
     "text": [
      "Rolling Model: mean=[-6.12399562] with std=[1.65071176]\n",
      "Sliding Model: mean=[-5.60958161] with std=[1.45640777]\n"
     ]
    }
   ],
   "source": [
    "# select coherent topics\n",
    "rd = rolling_join_df[(rolling_join_df.Coherent == 1)]\n",
    "sd = sliding_join_df[(sliding_join_df.Coherent == 1)]\n",
    "\n",
    "rolling_coherence_mean = rd[[\"coherence\"]].mean(axis = 0, skipna = True).values\n",
    "rolling_coherence_std = rd[[\"coherence\"]].std(axis = 0, skipna = True).values\n",
    "sliding_coherence_mean = sd[[\"coherence\"]].mean(axis = 0, skipna = True).values\n",
    "sliding_coherence_std = sd[[\"coherence\"]].std(axis = 0, skipna = True).values\n",
    "print(f\"Rolling Model: mean={rolling_coherence_mean} with std={rolling_coherence_std}\")\n",
    "print(f\"Sliding Model: mean={sliding_coherence_mean} with std={sliding_coherence_std}\")"
   ]
  },
  {
   "cell_type": "code",
   "execution_count": 24,
   "metadata": {},
   "outputs": [],
   "source": [
    "def calculate_diversity_max(topic_words):\n",
    "    div = []\n",
    "    for i in range(len(topic_words)):\n",
    "        tmp = []\n",
    "        for j in range(len(topic_words)):\n",
    "            if i == j:\n",
    "                continue\n",
    "            else:\n",
    "                # tmp.append(jaccard_similarity(topic_words[i], topic_words[j]))\n",
    "                tmp.append(jaccard_similarity(topic_words[i].split(\" \")[:10], topic_words[j].split(\" \")[:10]))\n",
    "        div.append(1-max(tmp))\n",
    "    return div\n",
    "\n",
    "def calculate_diversity_avg(topic_words):\n",
    "    div = []\n",
    "    for i in range(len(topic_words)):\n",
    "        for j in range(len(topic_words)):\n",
    "            if i == j:\n",
    "                continue\n",
    "            else:\n",
    "                div.append(1-jaccard_similarity(topic_words[i], topic_words[j]))\n",
    "    return div"
   ]
  },
  {
   "cell_type": "code",
   "execution_count": 25,
   "metadata": {},
   "outputs": [],
   "source": [
    "rd_div_list = calculate_diversity_max(rd.total_words.to_list())\n",
    "sd_div_list = calculate_diversity_max(sd[\"relevant words\"].to_list())"
   ]
  },
  {
   "cell_type": "code",
   "execution_count": 26,
   "metadata": {},
   "outputs": [
    {
     "name": "stdout",
     "output_type": "stream",
     "text": [
      "Rolling Model Diveristy: mean=0.8419708187472288, std=0.06830396572447622\n",
      "Sliding Model Diveristy: mean=0.8196366733828033, std=0.09045677156022981\n"
     ]
    }
   ],
   "source": [
    "import numpy as np\n",
    "print(f\"Rolling Model Diveristy: mean={np.mean(rd_div_list)}, std={np.std(rd_div_list)}\")\n",
    "print(f\"Sliding Model Diveristy: mean={np.mean(sd_div_list)}, std={np.std(sd_div_list)}\")"
   ]
  }
 ],
 "metadata": {
  "kernelspec": {
   "display_name": "HealthV",
   "language": "python",
   "name": "healthv"
  },
  "language_info": {
   "codemirror_mode": {
    "name": "ipython",
    "version": 3
   },
   "file_extension": ".py",
   "mimetype": "text/x-python",
   "name": "python",
   "nbconvert_exporter": "python",
   "pygments_lexer": "ipython3",
   "version": "3.7.6"
  }
 },
 "nbformat": 4,
 "nbformat_minor": 4
}
