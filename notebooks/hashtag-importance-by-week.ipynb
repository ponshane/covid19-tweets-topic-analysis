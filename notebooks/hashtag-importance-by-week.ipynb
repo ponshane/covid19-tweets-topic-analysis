{
 "cells": [
  {
   "cell_type": "code",
   "execution_count": 1,
   "metadata": {},
   "outputs": [],
   "source": [
    "from collections import defaultdict\n",
    "\n",
    "import math\n",
    "import sys\n",
    "sys.path.append(\"../\") # go to parent dir\n",
    "from codebase.utils import TweetRawCorpusStream, build_freq_table, calculate_tf_idf_table, return_top_N_dict_by_value"
   ]
  },
  {
   "cell_type": "code",
   "execution_count": 9,
   "metadata": {},
   "outputs": [],
   "source": [
    "Week_table = {}\n",
    "corpora_path = \"../corpora/\""
   ]
  },
  {
   "cell_type": "code",
   "execution_count": 44,
   "metadata": {},
   "outputs": [],
   "source": [
    "# %%time\n",
    "# docs = enumerate(TweetRawCorpusStream(file_path))\n",
    "# term_freq_table, document_freq_table, N = build_freq_table(docs)\n",
    "# tf_idf_table = calculate_tf_idf_table(term_freq_table, document_freq_table, N)\n",
    "# tf_idf_table[\"#covid\"]"
   ]
  },
  {
   "cell_type": "code",
   "execution_count": 40,
   "metadata": {},
   "outputs": [
    {
     "name": "stdout",
     "output_type": "stream",
     "text": [
      "CPU times: user 3min 40s, sys: 2.34 s, total: 3min 42s\n",
      "Wall time: 3min 42s\n"
     ]
    }
   ],
   "source": [
    "%%time\n",
    "for week_index in range(10,27):\n",
    "    target_week = f\"Week{week_index}\"\n",
    "    file_path = f\"{corpora_path}{target_week}-raw-corpus.tsv\"\n",
    "    # initialize generator\n",
    "    docs = enumerate(TweetRawCorpusStream(file_path))\n",
    "    # infer tf, df table\n",
    "    term_freq_table, document_freq_table, N = build_freq_table(docs)\n",
    "    # generate tf-idf table\n",
    "    tf_idf_table = calculate_tf_idf_table(term_freq_table, document_freq_table, N)\n",
    "    # store table\n",
    "    Week_table[week_index] = tf_idf_table"
   ]
  },
  {
   "cell_type": "code",
   "execution_count": 43,
   "metadata": {},
   "outputs": [],
   "source": [
    "import pickle\n",
    "# dump\n",
    "# pickle.dump(Week_table, open(\"../export/hashtag-tf-idf-table-by-week.pkl\", \"wb\"))\n",
    "# load\n",
    "Week_table = pickle.load(open(\"../export/hashtag-tf-idf-table-by-week.pkl\", \"rb\"))"
   ]
  },
  {
   "cell_type": "code",
   "execution_count": 29,
   "metadata": {},
   "outputs": [],
   "source": [
    "def diff_table(t1, t2):\n",
    "    diff = {}\n",
    "    for hashtag in t2.keys():\n",
    "        if hashtag in t1.keys():\n",
    "            diff[hashtag] = t2[hashtag] - t1[hashtag]\n",
    "        else:\n",
    "            diff[\"NEW-\"+hashtag] = t2[hashtag]\n",
    "    return diff"
   ]
  },
  {
   "cell_type": "code",
   "execution_count": 45,
   "metadata": {},
   "outputs": [],
   "source": [
    "diff = diff_table(Week_table[23], Week_table[24])"
   ]
  },
  {
   "cell_type": "code",
   "execution_count": 46,
   "metadata": {},
   "outputs": [
    {
     "data": {
      "text/plain": [
       "{'#covid': 0.11670021671618842,\n",
       " '#coronavirus': 0.07640393316129539,\n",
       " '#pandemic': 0.012967561227727083,\n",
       " '#lockdown': 0.011633395813382678,\n",
       " '#covid_': 0.011131709801169254,\n",
       " '#blacklivesmatter': 0.01099733837023698,\n",
       " '#covid__': 0.008510035182703643,\n",
       " '#news': 0.008501240488524141,\n",
       " '#corona': 0.008318921609272563,\n",
       " '#staysafe': 0.007884818611651565,\n",
       " '#stayhome': 0.0072951542661491165,\n",
       " '#india': 0.007083475957963573,\n",
       " '#trump': 0.006545971855277048,\n",
       " '#socialdistancing': 0.0064011540625309084,\n",
       " '#health': 0.005984227303837084,\n",
       " '#indiafightscorona': 0.00581757253250682,\n",
       " '#usa': 0.00578361513813016,\n",
       " '#blm': 0.005598617592195684,\n",
       " '#china': 0.005509294872114412,\n",
       " '#coronaviruspandemic': 0.00545959453459375,\n",
       " '#covidindia': 0.00502001347493642,\n",
       " '#sarscov': 0.004912464818951646,\n",
       " '#business': 0.004382638990855703,\n",
       " '#georgefloyd': 0.004368774399231489,\n",
       " '#economy': 0.0042934604126430706}"
      ]
     },
     "execution_count": 46,
     "metadata": {},
     "output_type": "execute_result"
    }
   ],
   "source": [
    "return_top_N_dict_by_value(Week_table[24], N=25)"
   ]
  },
  {
   "cell_type": "code",
   "execution_count": 47,
   "metadata": {},
   "outputs": [
    {
     "data": {
      "text/plain": [
       "{'#covid__': 0.005988407455391668,\n",
       " '#blacklivesmattters': 0.002477914681573856,\n",
       " '#covid': 0.002421503974072328,\n",
       " '#schoolreopening': 0.0024064031406004346,\n",
       " '#newzealand': 0.0020057327955903216,\n",
       " '#delhi': 0.0018725086354569606,\n",
       " '#shahidafridi': 0.0016847213984975172,\n",
       " '#carersweek': 0.0016397733921677626,\n",
       " '#foxnews': 0.001558861104560268,\n",
       " '#covidindia': 0.0015235061424682885,\n",
       " '#trumprecession': 0.0014251112498140906,\n",
       " '#covididiots': 0.0013595891166782459,\n",
       " '#blm': 0.0013378113110667786,\n",
       " '#exposebillgates': 0.001310528306107099,\n",
       " '#studentlivesmatter': 0.0013084244494722392,\n",
       " '#postponeneet': 0.001300989626636259,\n",
       " '#indiafightscorona': 0.0012976550640469812,\n",
       " '#mondaythoughts': 0.0012606387421610957,\n",
       " '#globalgoalunite': 0.0012575429629119598,\n",
       " '#wearamask': 0.001254043517837538,\n",
       " '#postponejee': 0.0012325131485458201,\n",
       " '#global': 0.0011397906073938881,\n",
       " '#reuters': 0.0010540078995894921,\n",
       " 'NEW-#voguechallange': 0.0010381249270813905,\n",
       " '#bleach': 0.0010326224246448037}"
      ]
     },
     "execution_count": 47,
     "metadata": {},
     "output_type": "execute_result"
    }
   ],
   "source": [
    "return_top_N_dict_by_value(diff, N=25)"
   ]
  }
 ],
 "metadata": {
  "kernelspec": {
   "display_name": "HealthV",
   "language": "python",
   "name": "healthv"
  },
  "language_info": {
   "codemirror_mode": {
    "name": "ipython",
    "version": 3
   },
   "file_extension": ".py",
   "mimetype": "text/x-python",
   "name": "python",
   "nbconvert_exporter": "python",
   "pygments_lexer": "ipython3",
   "version": "3.7.6"
  }
 },
 "nbformat": 4,
 "nbformat_minor": 4
}
