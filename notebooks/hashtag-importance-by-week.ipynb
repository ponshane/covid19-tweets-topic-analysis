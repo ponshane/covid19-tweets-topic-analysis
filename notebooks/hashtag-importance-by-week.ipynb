{
 "cells": [
  {
   "cell_type": "code",
   "execution_count": 1,
   "metadata": {},
   "outputs": [],
   "source": [
    "from collections import defaultdict\n",
    "\n",
    "import math\n",
    "import sys\n",
    "sys.path.append(\"../\") # go to parent dir\n",
    "from codebase.utils import TweetRawCorpusStream, build_freq_table, calculate_tf_idf_table, return_top_N_dict_by_value"
   ]
  },
  {
   "cell_type": "code",
   "execution_count": 2,
   "metadata": {},
   "outputs": [],
   "source": [
    "corpora_path = \"../corpora/\"\n",
    "target_week = \"Week10\"\n",
    "file_path = f\"{corpora_path}{target_week}-raw-corpus.tsv\""
   ]
  },
  {
   "cell_type": "code",
   "execution_count": 3,
   "metadata": {},
   "outputs": [],
   "source": [
    "# Step 1, read raw corpus as an enumerator\n",
    "docs = enumerate(TweetRawCorpusStream(file_path))"
   ]
  },
  {
   "cell_type": "code",
   "execution_count": 4,
   "metadata": {},
   "outputs": [
    {
     "name": "stdout",
     "output_type": "stream",
     "text": [
      "CPU times: user 3.64 s, sys: 52.6 ms, total: 3.69 s\n",
      "Wall time: 3.66 s\n"
     ]
    }
   ],
   "source": [
    "%%time\n",
    "term_freq_table, document_freq_table, N = build_freq_table(docs)"
   ]
  },
  {
   "cell_type": "code",
   "execution_count": 5,
   "metadata": {},
   "outputs": [],
   "source": [
    "tf_idf_table = calculate_tf_idf_table(term_freq_table, document_freq_table, N)"
   ]
  },
  {
   "cell_type": "code",
   "execution_count": 6,
   "metadata": {},
   "outputs": [
    {
     "data": {
      "text/plain": [
       "{'#covid': 0.1403098806375275,\n",
       " '#coronavirus': 0.12123239470295197,\n",
       " '#coronavirusoutbreak': 0.022967300414616556,\n",
       " '#coronaoutbreak': 0.016730430174330645,\n",
       " '#covid_': 0.015972028569135953,\n",
       " '#coronavirusupdate': 0.01595769488899816,\n",
       " '#china': 0.015014859629939108,\n",
       " '#coronavirususa': 0.011803835039320561,\n",
       " '#sarscov': 0.011701908501522475,\n",
       " '#iran': 0.011233946944219577,\n",
       " '#ncov': 0.00967285561433801,\n",
       " '#coronaalert': 0.009298121338714717,\n",
       " '#corona': 0.0090757088232672,\n",
       " '#pandemic': 0.009062049403408488,\n",
       " '#trump': 0.009043203316069887,\n",
       " '#breaking': 0.008389592566155376,\n",
       " '#coronaviruschallenge': 0.007693867589937602,\n",
       " '#wuhan': 0.0076468573662983085,\n",
       " '#coronavirusupdates': 0.007027629749412212,\n",
       " '#italy': 0.006767286483515345,\n",
       " '#coronavirusindia': 0.006651792862284834,\n",
       " '#coronvirus': 0.006600517546338813,\n",
       " '#news': 0.006404422425730782,\n",
       " '#health': 0.006231179290150965,\n",
       " '#cdc': 0.005908610649824318,\n",
       " '#who': 0.0055726044841622364,\n",
       " '#coronavirusuk': 0.005571506606471728,\n",
       " '#sxsw': 0.0055440813022154915,\n",
       " '#virus': 0.005435313904789123,\n",
       " '#usa': 0.005167141990543985,\n",
       " '#coronvirusuk': 0.00492089936684966,\n",
       " '#maga': 0.004739638616957068,\n",
       " '#covidus': 0.004514258603241635,\n",
       " '#washyourhands': 0.004503347095110882,\n",
       " '#publichealth': 0.004268492569687632,\n",
       " '#healthcare': 0.004119494499376746,\n",
       " '#coronavirusseattle': 0.0040681356805800616,\n",
       " '#coronavirusinindia': 0.004064627087583556,\n",
       " '#uk': 0.004011668833309363,\n",
       " '#covidusa': 0.0039631863820205745,\n",
       " '#trumpvirus': 0.003955864059580584,\n",
       " '#auspol': 0.003728282231145508,\n",
       " '#us': 0.003654431713305862,\n",
       " '#coronavirusnyc': 0.0036081553607308827,\n",
       " '#toiletpaperpanic': 0.003579220487022497,\n",
       " '#coronavid': 0.003545557300701267,\n",
       " '#coronavirusus': 0.0035449918674410868,\n",
       " '#travel': 0.003515401493738584,\n",
       " '#flu': 0.0034724645738431217,\n",
       " '#coronavirusflorida': 0.0034443843491135336}"
      ]
     },
     "execution_count": 6,
     "metadata": {},
     "output_type": "execute_result"
    }
   ],
   "source": [
    "return_top_N_dict_by_value(tf_idf_table, N=50)"
   ]
  }
 ],
 "metadata": {
  "kernelspec": {
   "display_name": "HealthV",
   "language": "python",
   "name": "healthv"
  },
  "language_info": {
   "codemirror_mode": {
    "name": "ipython",
    "version": 3
   },
   "file_extension": ".py",
   "mimetype": "text/x-python",
   "name": "python",
   "nbconvert_exporter": "python",
   "pygments_lexer": "ipython3",
   "version": "3.7.6"
  }
 },
 "nbformat": 4,
 "nbformat_minor": 4
}
