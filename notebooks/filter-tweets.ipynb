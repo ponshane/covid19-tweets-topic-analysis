{
 "cells": [
  {
   "cell_type": "code",
   "execution_count": 1,
   "metadata": {},
   "outputs": [],
   "source": [
    "import pandas as pd\n",
    "import glob\n",
    "import json\n",
    "import os"
   ]
  },
  {
   "cell_type": "code",
   "execution_count": 2,
   "metadata": {},
   "outputs": [],
   "source": [
    "def make_small_tweets(tweet):\n",
    "    '''\n",
    "    Check if the tweet is retweet, then filter only the fields useful to the research\n",
    "    '''\n",
    "    \n",
    "    if 'retweeted_status' in tweet.keys():\n",
    "        \n",
    "        original = {'created_at': tweet['retweeted_status']['created_at'],\n",
    "                    'id_str': tweet['retweeted_status']['id_str'],\n",
    "                    'full_text': tweet['retweeted_status']['full_text'],\n",
    "                    'entities': tweet['retweeted_status']['entities'],\n",
    "                    'source': tweet['retweeted_status']['source'],\n",
    "                    'retweet': False,\n",
    "                    'retweet_count': tweet['retweeted_status']['retweet_count'],\n",
    "                    'favorite_count': tweet['favorite_count']}\n",
    "        \n",
    "        retweet = {'created_at': tweet['created_at'],\n",
    "                   'id_str': tweet['id_str'],\n",
    "                   'full_text': tweet['full_text'],\n",
    "                   'truncated': tweet['truncated'],\n",
    "                   'entities': tweet['entities'],\n",
    "                   'source': tweet['source'],\n",
    "                   'retweet': True,\n",
    "                   'retweet_count': tweet['retweet_count'],\n",
    "                   'favorite_count': tweet['favorite_count']}\n",
    "        \n",
    "        return (original, retweet)\n",
    "    \n",
    "    else:\n",
    "        \n",
    "        original = {'created_at': tweet['created_at'],\n",
    "                    'id_str': tweet['id_str'],\n",
    "                    'full_text': tweet['full_text'],\n",
    "                    'entities': tweet['entities'],\n",
    "                    'source': tweet['source'],\n",
    "                    'retweet': False,\n",
    "                    'retweet_count': tweet['retweet_count'],\n",
    "                    'favorite_count': tweet['favorite_count']}\n",
    "\n",
    "        return (original, None)"
   ]
  },
  {
   "cell_type": "code",
   "execution_count": 3,
   "metadata": {},
   "outputs": [],
   "source": [
    "def check_keywords(tweet):\n",
    "    keywords = ['vaccine','vaccines','#vaccine','#vaccines','corona vaccine','corona vaccines','#coronavaccine','#coronavaccines','pfizer',\n",
    "                'biontech','moderna','pfizer-biontech','pfizer/biontech','pfizer biontech','#pfizerbiontech','covax',\n",
    "                '#covax','sinopharm','sinovac','astrazeneca','sputnik v','gamaleya']\n",
    "    \n",
    "    for keyword in keywords:\n",
    "        if keyword in tweet['full_text'].lower():\n",
    "            return True\n",
    "    \n",
    "    if len(tweet['entities']['hashtags']) > 0:\n",
    "        for keyword in keywords:\n",
    "            if keyword in [x.lower() for x in tweet['entities']['hashtags'][0]['text']]:\n",
    "                return True\n",
    "    else:\n",
    "        return False"
   ]
  },
  {
   "cell_type": "code",
   "execution_count": 40,
   "metadata": {},
   "outputs": [
    {
     "name": "stdout",
     "output_type": "stream",
     "text": [
      "Day 308 processed.\n"
     ]
    }
   ],
   "source": [
    "for folder_name in glob.glob('./CollectedTweets/308'): #Change to process multiple folders\n",
    "    day_number = folder_name[-3:]\n",
    "    parent_dir = \"../ProcessedTweets/\"\n",
    "    path = os.path.join(parent_dir, day_number) \n",
    "    os.mkdir(path) \n",
    "    \n",
    "    \n",
    "    for file_name in glob.glob(folder_name + '/*.csv'):\n",
    "        all_processed_tweets = []\n",
    "        \n",
    "        tweets = pd.read_csv(file_name)\n",
    "        for tweet in tweets['json']:\n",
    "            try:\n",
    "                tweet_object = json.loads(tweet)\n",
    "            except:\n",
    "                print('Error')\n",
    "                \n",
    "            small_tweets = make_small_tweets(tweet_object) #Filtering the selected fields\n",
    "            \n",
    "            if check_keywords(small_tweets[0]):  #Checking if tweet has the keywords\n",
    "                for small_tweet in small_tweets:\n",
    "                    if small_tweet:\n",
    "                        all_processed_tweets.append(small_tweet)\n",
    "                \n",
    "                \n",
    "        with open('../Processedtweets/' + day_number + '/' + file_name.split('/')[-1].split('.')[0] + '.json', 'w') as outfile:\n",
    "            json.dump(all_processed_tweets, outfile)\n",
    "    \n",
    "    print(f'Day {day_number} processed.')"
   ]
  }
 ],
 "metadata": {
  "kernelspec": {
   "display_name": "Python 3",
   "language": "python",
   "name": "python3"
  },
  "language_info": {
   "codemirror_mode": {
    "name": "ipython",
    "version": 3
   },
   "file_extension": ".py",
   "mimetype": "text/x-python",
   "name": "python",
   "nbconvert_exporter": "python",
   "pygments_lexer": "ipython3",
   "version": "3.7.3"
  }
 },
 "nbformat": 4,
 "nbformat_minor": 4
}
