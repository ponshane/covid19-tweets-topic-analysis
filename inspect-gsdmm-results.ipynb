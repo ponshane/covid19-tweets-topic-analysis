{
 "cells": [
  {
   "cell_type": "code",
   "execution_count": null,
   "metadata": {},
   "outputs": [],
   "source": [
    "# Modulize the below cell"
   ]
  },
  {
   "cell_type": "code",
   "execution_count": 24,
   "metadata": {},
   "outputs": [],
   "source": [
    "def read_cluster_description(file_path, delimiter=\" \"):\n",
    "    with open(file_path, \"r\") as rf:\n",
    "        cluster_vocabs = {}\n",
    "        for cluster in rf:\n",
    "            cluster_elem = cluster.split(delimiter)\n",
    "            cluster_id = cluster_elem[0]\n",
    "            word_count_dict = {}\n",
    "            for elem in cluster_elem[1:]:\n",
    "                word, count = elem.split(\":\")\n",
    "                word_count_dict[word] = int(count)\n",
    "                \n",
    "            word_count_dict = OrderedDict(sorted(word_count_dict.items(), key = \n",
    "             lambda kv: kv[1], reverse=True))\n",
    "            \n",
    "            cluster_vocabs[int(cluster_id)] = word_count_dict\n",
    "        return cluster_vocabs\n",
    "\n",
    "def show_top_n_words(cluster_vocabs, topic_id, top_n):\n",
    "    i = 0\n",
    "    for word, count in cluster_vocabs[topic_id].items():\n",
    "        print(\"{}:{}\".format(word, count))\n",
    "        i += 1\n",
    "        if i == top_n-1:\n",
    "            break"
   ]
  },
  {
   "cell_type": "code",
   "execution_count": 23,
   "metadata": {},
   "outputs": [],
   "source": [
    "cluster_vocabs = read_cluster_description(file_path=\"./models/gsdmm_FirstWeek_March_cluster_descriptions.txt\")"
   ]
  },
  {
   "cell_type": "code",
   "execution_count": 28,
   "metadata": {},
   "outputs": [
    {
     "name": "stdout",
     "output_type": "stream",
     "text": [
      "#covid:82889\n",
      "coronavirus:62181\n",
      "#coronavirus:44348\n",
      "people:36875\n",
      "virus:20343\n",
      "us:19489\n",
      "flu:19131\n",
      "cases:18299\n",
      "covid:18283\n"
     ]
    }
   ],
   "source": [
    "show_top_n_words(cluster_vocabs, 8, 10)"
   ]
  }
 ],
 "metadata": {
  "kernelspec": {
   "display_name": "HealthV",
   "language": "python",
   "name": "healthv"
  },
  "language_info": {
   "codemirror_mode": {
    "name": "ipython",
    "version": 3
   },
   "file_extension": ".py",
   "mimetype": "text/x-python",
   "name": "python",
   "nbconvert_exporter": "python",
   "pygments_lexer": "ipython3",
   "version": "3.7.6"
  }
 },
 "nbformat": 4,
 "nbformat_minor": 4
}
