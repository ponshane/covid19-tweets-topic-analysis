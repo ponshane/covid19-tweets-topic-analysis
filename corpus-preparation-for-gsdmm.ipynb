{
 "cells": [
  {
   "cell_type": "code",
   "execution_count": 2,
   "metadata": {},
   "outputs": [],
   "source": [
    "# from codebase.mgp import MovieGroupProcess\n",
    "from codebase.utils import MongoConnector #, DocumentStream\n",
    "from gensim.corpora import Dictionary\n",
    "from datetime import datetime"
   ]
  },
  {
   "cell_type": "markdown",
   "metadata": {},
   "source": [
    "## Step1, build Dictionary object"
   ]
  },
  {
   "cell_type": "code",
   "execution_count": 3,
   "metadata": {},
   "outputs": [],
   "source": [
    "conn = MongoConnector(\"./config.ini\")\n",
    "conn.get_collection_cursor(\"FirstWeek_March\")"
   ]
  },
  {
   "cell_type": "code",
   "execution_count": 14,
   "metadata": {},
   "outputs": [
    {
     "name": "stdout",
     "output_type": "stream",
     "text": [
      "CPU times: user 43.8 s, sys: 372 ms, total: 44.2 s\n",
      "Wall time: 52.2 s\n"
     ]
    }
   ],
   "source": [
    "%%time\n",
    "query = {\"tokens\":{\"$exists\": True}}\n",
    "dct = Dictionary()\n",
    "for doc in conn.data_streaming_from_collection(query=query):\n",
    "    token_f = [x for x in doc[\"tokens\"] if len(x) > 1]\n",
    "    dct.add_documents([token_f])"
   ]
  },
  {
   "cell_type": "code",
   "execution_count": 15,
   "metadata": {},
   "outputs": [
    {
     "name": "stdout",
     "output_type": "stream",
     "text": [
      "Original size of vocabs: 335223\n",
      "Truncated size of vocabs: 29667\n"
     ]
    }
   ],
   "source": [
    "print(\"Original size of vocabs: {}\".format(len(dct)))\n",
    "# control the vocabulary\n",
    "dct.filter_extremes(no_below=20, no_above=0.5, keep_n=len(dct), keep_tokens=None)\n",
    "print(\"Truncated size of vocabs: {}\".format(len(dct)))"
   ]
  },
  {
   "cell_type": "markdown",
   "metadata": {},
   "source": [
    "## Step2, export corpus"
   ]
  },
  {
   "cell_type": "code",
   "execution_count": 16,
   "metadata": {},
   "outputs": [
    {
     "name": "stdout",
     "output_type": "stream",
     "text": [
      "Have processed 0 documents\n",
      "Have processed 100000 documents\n",
      "Have processed 200000 documents\n",
      "Have processed 300000 documents\n",
      "Have processed 400000 documents\n",
      "Have processed 500000 documents\n",
      "Have processed 600000 documents\n",
      "Have processed 700000 documents\n",
      "Have processed 800000 documents\n",
      "Have processed 900000 documents\n",
      "Have processed 1000000 documents\n",
      "Have processed 1100000 documents\n",
      "Have processed 1200000 documents\n",
      "Have processed 1300000 documents\n",
      "Have processed 1400000 documents\n",
      "CPU times: user 22.4 s, sys: 540 ms, total: 22.9 s\n",
      "Wall time: 31.2 s\n"
     ]
    }
   ],
   "source": [
    "%%time\n",
    "\n",
    "file_prefix = \"./corpora/FirstWeek-March-Tweets\"\n",
    "meta_wf = open(file_prefix+\"-Meta.csv\", \"w\")\n",
    "token_wf = open(file_prefix+\".txt\", \"w\")\n",
    "\n",
    "query = {\"tokens\":{\"$exists\": True}}\n",
    "for i, doc in enumerate(conn.data_streaming_from_collection(query=query)):\n",
    "    \n",
    "    if i % 100000 == 0:\n",
    "        print(\"Have processed {} documents\".format(i))\n",
    "    \n",
    "    trucated_tokens = [x for x in doc[\"tokens\"] if x in dct.token2id.keys()]\n",
    "    \n",
    "    if len(trucated_tokens) > 3:\n",
    "        timestamp = doc[\"created_at\"].strftime(\"%Y-%m-%d %H:%M:%S\")\n",
    "        meta_wf.write(\"{},{}\\n\".format(doc[\"id_str\"],timestamp))\n",
    "        token_wf.write(\"{}\\n\".format(\" \".join(trucated_tokens)))\n",
    "\n",
    "meta_wf.close()\n",
    "token_wf.close()\n",
    "\n",
    "with open(file_prefix+\"-Vocabs.txt\", \"w\") as wf:\n",
    "    for word in dct.token2id.keys():\n",
    "        wf.write(\"{}\\n\".format(word))"
   ]
  }
 ],
 "metadata": {
  "kernelspec": {
   "display_name": "HealthV",
   "language": "python",
   "name": "healthv"
  },
  "language_info": {
   "codemirror_mode": {
    "name": "ipython",
    "version": 3
   },
   "file_extension": ".py",
   "mimetype": "text/x-python",
   "name": "python",
   "nbconvert_exporter": "python",
   "pygments_lexer": "ipython3",
   "version": "3.7.6"
  }
 },
 "nbformat": 4,
 "nbformat_minor": 4
}
